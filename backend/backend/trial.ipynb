{
 "cells": [
  {
   "cell_type": "code",
   "execution_count": 2,
   "metadata": {},
   "outputs": [],
   "source": [
    "import xmltodict\n"
   ]
  },
  {
   "cell_type": "code",
   "execution_count": 1,
   "metadata": {},
   "outputs": [],
   "source": [
    "old_dict =[]"
   ]
  },
  {
   "cell_type": "code",
   "execution_count": 3,
   "metadata": {},
   "outputs": [],
   "source": [
    "def parse_xml(file_location):\n",
    "    with open(file_location, 'r', encoding='utf-8') as file:\n",
    "        global_xml_contents = file.read()\n",
    "    converted_dict = xmltodict.parse(global_xml_contents)\n",
    "    return converted_dict"
   ]
  },
  {
   "cell_type": "code",
   "execution_count": 4,
   "metadata": {},
   "outputs": [],
   "source": [
    "\n",
    "old_dict = parse_xml(\"C:/Users/Utkarsh Agarwal/Documents/GitHub/l2g/backend/test1.xml\")"
   ]
  },
  {
   "cell_type": "code",
   "execution_count": 5,
   "metadata": {},
   "outputs": [
    {
     "ename": "KeyError",
     "evalue": "'dbSchema'",
     "output_type": "error",
     "traceback": [
      "\u001b[1;31m---------------------------------------------------------------------------\u001b[0m",
      "\u001b[1;31mKeyError\u001b[0m                                  Traceback (most recent call last)",
      "\u001b[1;32mC:\\Users\\UTKARS~1\\AppData\\Local\\Temp/ipykernel_3544/3057933973.py\u001b[0m in \u001b[0;36m<module>\u001b[1;34m\u001b[0m\n\u001b[1;32m----> 1\u001b[1;33m \u001b[0mtype\u001b[0m\u001b[1;33m(\u001b[0m\u001b[0mold_dict\u001b[0m\u001b[1;33m[\u001b[0m\u001b[1;34m\"dbSchema\"\u001b[0m\u001b[1;33m]\u001b[0m\u001b[1;33m[\u001b[0m\u001b[1;34m\"table\"\u001b[0m\u001b[1;33m]\u001b[0m\u001b[1;33m[\u001b[0m\u001b[1;36m3\u001b[0m\u001b[1;33m]\u001b[0m\u001b[1;33m[\u001b[0m\u001b[1;34m\"column\"\u001b[0m\u001b[1;33m]\u001b[0m\u001b[1;33m)\u001b[0m \u001b[1;33m==\u001b[0m \u001b[0mtype\u001b[0m\u001b[1;33m(\u001b[0m\u001b[1;33m[\u001b[0m\u001b[1;33m]\u001b[0m\u001b[1;33m)\u001b[0m\u001b[1;33m\u001b[0m\u001b[1;33m\u001b[0m\u001b[0m\n\u001b[0m",
      "\u001b[1;31mKeyError\u001b[0m: 'dbSchema'"
     ]
    }
   ],
   "source": [
    "type(old_dict[\"dbSchema\"][\"table\"][3][\"column\"]) == type([])\n"
   ]
  },
  {
   "cell_type": "code",
   "execution_count": 6,
   "metadata": {},
   "outputs": [
    {
     "data": {
      "text/plain": [
       "2"
      ]
     },
     "execution_count": 6,
     "metadata": {},
     "output_type": "execute_result"
    }
   ],
   "source": [
    "len(old_dict[\"dbtype\"][\"dbSchema\"])\n"
   ]
  },
  {
   "cell_type": "code",
   "execution_count": 7,
   "metadata": {},
   "outputs": [],
   "source": [
    "def extract_table(table_od):\n",
    "    col_list = []\n",
    "    if(type(table_od[\"column\"]) ==  type([]) ):\n",
    "        for i in table_od[\"column\"]:\n",
    "            col_list.append({\"col_name\":i[\"@name\"], \"data_type\" : i[\"dataType\"] })\n",
    "            \n",
    "    else: \n",
    "        col_list.append({\"col_name\":table_od[\"column\"][\"@name\"], \"data_type\" : table_od[\"column\"][\"dataType\"] })\n",
    "    return { table_od[\"@name\"] : col_list}\n",
    "        \n"
   ]
  },
  {
   "cell_type": "code",
   "execution_count": 8,
   "metadata": {},
   "outputs": [
    {
     "ename": "KeyError",
     "evalue": "'dbSchema'",
     "output_type": "error",
     "traceback": [
      "\u001b[1;31m---------------------------------------------------------------------------\u001b[0m",
      "\u001b[1;31mKeyError\u001b[0m                                  Traceback (most recent call last)",
      "\u001b[1;32mC:\\Users\\UTKARS~1\\AppData\\Local\\Temp/ipykernel_3544/807179905.py\u001b[0m in \u001b[0;36m<module>\u001b[1;34m\u001b[0m\n\u001b[1;32m----> 1\u001b[1;33m \u001b[0mextract_table\u001b[0m\u001b[1;33m(\u001b[0m\u001b[0mold_dict\u001b[0m\u001b[1;33m[\u001b[0m\u001b[1;34m\"dbSchema\"\u001b[0m\u001b[1;33m]\u001b[0m\u001b[1;33m[\u001b[0m\u001b[1;34m\"table\"\u001b[0m\u001b[1;33m]\u001b[0m\u001b[1;33m[\u001b[0m\u001b[1;36m0\u001b[0m\u001b[1;33m]\u001b[0m\u001b[1;33m)\u001b[0m\u001b[1;33m\u001b[0m\u001b[1;33m\u001b[0m\u001b[0m\n\u001b[0m",
      "\u001b[1;31mKeyError\u001b[0m: 'dbSchema'"
     ]
    }
   ],
   "source": [
    "extract_table(old_dict[\"dbSchema\"][\"table\"][0])"
   ]
  },
  {
   "cell_type": "code",
   "execution_count": 9,
   "metadata": {},
   "outputs": [],
   "source": [
    "def extract_db(old_dict):\n",
    "    new_dict = {}\n",
    "    list_tables = []\n",
    "    for i in old_dict[\"dbSchema\"][\"table\"]:\n",
    "        list_tables.append( extract_table(i))\n",
    "    \n",
    "    return {old_dict[\"dbSchema\"][\"@name\"] : list_tables} \n"
   ]
  },
  {
   "cell_type": "code",
   "execution_count": 87,
   "metadata": {},
   "outputs": [],
   "source": [
    "def extract_xml(xml_dict):\n",
    "    new_dict = {}\n",
    "    len(xml_dict[\"dbtype\"][\"dbSchema\"])\n",
    "    for j in xml_dict[\"dbtype\"][\"dbSchema\"]:\n",
    "        list_tables = []\n",
    "        for i in j[\"table\"]:\n",
    "            list_tables.append( extract_table(i))\n",
    "        new_dict[j[\"@name\"]] = list_tables\n",
    "    return {xml_dict[\"dbtype\"][\"@name\"] : new_dict}"
   ]
  },
  {
   "cell_type": "code",
   "execution_count": 10,
   "metadata": {},
   "outputs": [],
   "source": [
    "def extract_xml(xml_dict):\n",
    "    new_dict = {}\n",
    "    len(xml_dict[\"dbtype\"][\"dbSchema\"])\n",
    "    if(type(xml_dict[\"dbtype\"][\"dbSchema\"]) ==  type([]) ):\n",
    "        for j in xml_dict[\"dbtype\"][\"dbSchema\"]:\n",
    "            list_tables = []\n",
    "            for i in j[\"table\"]:\n",
    "                list_tables.append( extract_table(i))\n",
    "            new_dict[j[\"@name\"]] = list_tables\n",
    "    else :\n",
    "        list_tables.append( extract_table(xml_dict[\"dbtype\"][\"dbSchema\"][\"table\"]))\n",
    "    return {xml_dict[\"dbtype\"][\"@name\"] : new_dict}"
   ]
  },
  {
   "cell_type": "code",
   "execution_count": 11,
   "metadata": {},
   "outputs": [
    {
     "data": {
      "text/plain": [
       "{'SQL': {'companydb': [{'department': [{'col_name': 'dname',\n",
       "      'data_type': 'varchar'},\n",
       "     {'col_name': 'dnumber', 'data_type': 'smallint'}]},\n",
       "   {'dependent': [{'col_name': 'essn', 'data_type': 'char'}]},\n",
       "   {'dept_locations': [{'col_name': 'dnumber', 'data_type': 'smallint'}]},\n",
       "   {'employee': [{'col_name': 'fname', 'data_type': 'varchar'},\n",
       "     {'col_name': 'minit', 'data_type': 'char'},\n",
       "     {'col_name': 'lname', 'data_type': 'varchar'},\n",
       "     {'col_name': 'ssn', 'data_type': 'char'}]},\n",
       "   {'project': [{'col_name': 'pname', 'data_type': 'varchar'},\n",
       "     {'col_name': 'pnumber', 'data_type': 'smallint'}]},\n",
       "   {'works_on': [{'col_name': 'essn', 'data_type': 'char'}]}],\n",
       "  'test_db2': [{'table1': [{'col_name': 'col1', 'data_type': 'varchar'},\n",
       "     {'col_name': 'col2', 'data_type': 'smallint'}]},\n",
       "   {'table2': [{'col_name': 'col1', 'data_type': 'char'}]}]}}"
      ]
     },
     "execution_count": 11,
     "metadata": {},
     "output_type": "execute_result"
    }
   ],
   "source": [
    "extract_xml(old_dict)"
   ]
  },
  {
   "cell_type": "code",
   "execution_count": null,
   "metadata": {},
   "outputs": [],
   "source": []
  }
 ],
 "metadata": {
  "interpreter": {
   "hash": "81c2bf14d14bc72b8bd5fbe634a5185b52f750bf8ca693c1945bbcf8d751d8d2"
  },
  "kernelspec": {
   "display_name": "Python 3.9.5 64-bit",
   "language": "python",
   "name": "python3"
  },
  "language_info": {
   "codemirror_mode": {
    "name": "ipython",
    "version": 3
   },
   "file_extension": ".py",
   "mimetype": "text/x-python",
   "name": "python",
   "nbconvert_exporter": "python",
   "pygments_lexer": "ipython3",
   "version": "3.9.5"
  },
  "orig_nbformat": 4
 },
 "nbformat": 4,
 "nbformat_minor": 2
}
